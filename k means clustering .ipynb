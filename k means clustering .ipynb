{
 "cells": [
  {
   "cell_type": "code",
   "execution_count": 1,
   "metadata": {},
   "outputs": [],
   "source": [
    "import numpy as np\n",
    "import pandas as pd\n",
    "import math\n",
    "import matplotlib.pyplot as plt\n",
    "import random"
   ]
  },
  {
   "cell_type": "code",
   "execution_count": 2,
   "metadata": {},
   "outputs": [],
   "source": [
    "df=pd.read_csv('kmeans.csv',delimiter='\\t')[['Distance_Feature','Speeding_Feature']]\n",
    "data=np.array(df)"
   ]
  },
  {
   "cell_type": "code",
   "execution_count": 3,
   "metadata": {
    "scrolled": true
   },
   "outputs": [
    {
     "data": {
      "text/html": [
       "<div>\n",
       "<style scoped>\n",
       "    .dataframe tbody tr th:only-of-type {\n",
       "        vertical-align: middle;\n",
       "    }\n",
       "\n",
       "    .dataframe tbody tr th {\n",
       "        vertical-align: top;\n",
       "    }\n",
       "\n",
       "    .dataframe thead th {\n",
       "        text-align: right;\n",
       "    }\n",
       "</style>\n",
       "<table border=\"1\" class=\"dataframe\">\n",
       "  <thead>\n",
       "    <tr style=\"text-align: right;\">\n",
       "      <th></th>\n",
       "      <th>Distance_Feature</th>\n",
       "      <th>Speeding_Feature</th>\n",
       "    </tr>\n",
       "  </thead>\n",
       "  <tbody>\n",
       "    <tr>\n",
       "      <th>0</th>\n",
       "      <td>71.24</td>\n",
       "      <td>28.0</td>\n",
       "    </tr>\n",
       "    <tr>\n",
       "      <th>1</th>\n",
       "      <td>52.53</td>\n",
       "      <td>25.0</td>\n",
       "    </tr>\n",
       "    <tr>\n",
       "      <th>2</th>\n",
       "      <td>64.54</td>\n",
       "      <td>27.0</td>\n",
       "    </tr>\n",
       "    <tr>\n",
       "      <th>3</th>\n",
       "      <td>55.69</td>\n",
       "      <td>22.0</td>\n",
       "    </tr>\n",
       "    <tr>\n",
       "      <th>4</th>\n",
       "      <td>54.58</td>\n",
       "      <td>25.0</td>\n",
       "    </tr>\n",
       "  </tbody>\n",
       "</table>\n",
       "</div>"
      ],
      "text/plain": [
       "   Distance_Feature  Speeding_Feature\n",
       "0             71.24              28.0\n",
       "1             52.53              25.0\n",
       "2             64.54              27.0\n",
       "3             55.69              22.0\n",
       "4             54.58              25.0"
      ]
     },
     "execution_count": 3,
     "metadata": {},
     "output_type": "execute_result"
    }
   ],
   "source": [
    "df.head()\n"
   ]
  },
  {
   "cell_type": "code",
   "execution_count": 4,
   "metadata": {},
   "outputs": [
    {
     "name": "stdout",
     "output_type": "stream",
     "text": [
      "[[ 71.24  28.  ]\n",
      " [ 52.53  25.  ]\n",
      " [ 64.54  27.  ]\n",
      " ...\n",
      " [170.91  12.  ]\n",
      " [176.14   5.  ]\n",
      " [168.03   9.  ]]\n"
     ]
    }
   ],
   "source": [
    "print(data)"
   ]
  },
  {
   "cell_type": "code",
   "execution_count": 5,
   "metadata": {},
   "outputs": [
    {
     "data": {
      "text/plain": [
       "<matplotlib.axes._subplots.AxesSubplot at 0x1bf5b4dc240>"
      ]
     },
     "execution_count": 5,
     "metadata": {},
     "output_type": "execute_result"
    },
    {
     "data": {
      "image/png": "[encoded data removed]",
      "text/plain": [
       "<Figure size 432x288 with 1 Axes>"
      ]
     },
     "metadata": {},
     "output_type": "display_data"
    }
   ],
   "source": [
    "df.plot(x='Distance_Feature',y='Speeding_Feature',kind='scatter')"
   ]
  },
  {
   "cell_type": "code",
   "execution_count": 6,
   "metadata": {},
   "outputs": [],
   "source": [
    "#initializing number of clusters\n",
    "k=4"
   ]
  },
  {
   "cell_type": "code",
   "execution_count": 7,
   "metadata": {},
   "outputs": [
    {
     "data": {
      "text/plain": [
       "array([[62.3 ,  6.  ],\n",
       "       [58.83,  5.  ],\n",
       "       [66.04,  5.  ],\n",
       "       [59.34,  9.  ]])"
      ]
     },
     "execution_count": 7,
     "metadata": {},
     "output_type": "execute_result"
    }
   ],
   "source": [
    "centroids=np.array(df.sample(n=k))   #random centroid points taken from the data frame. and then converted to array\n",
    "new_centroids=centroids[:,np.newaxis,:] # broadcasting done \n",
    "distance=np.sqrt(np.sum(np.square(data-new_centroids),axis=2))  #euclidian distance calculated\n",
    "centroids"
   ]
  },
  {
   "cell_type": "code",
   "execution_count": 8,
   "metadata": {},
   "outputs": [
    {
     "data": {
      "text/plain": [
       "array([[ 23.74707561,  21.36475837,  21.11912877, ..., 108.77560434,\n",
       "        113.84439204, 105.77255268],\n",
       "       [ 26.13442366,  20.96878633,  22.7289265 , ..., 112.29838111,\n",
       "        117.31      , 109.27323552],\n",
       "       [ 23.58050042,  24.13545318,  22.05107707, ..., 105.10336293,\n",
       "        110.1       , 102.06840892],\n",
       "       [ 22.41896519,  17.38896489,  18.73606149, ..., 111.61032614,\n",
       "        116.86847308, 108.69      ]])"
      ]
     },
     "execution_count": 8,
     "metadata": {},
     "output_type": "execute_result"
    }
   ],
   "source": [
    "distance"
   ]
  },
  {
   "cell_type": "code",
   "execution_count": 9,
   "metadata": {},
   "outputs": [
    {
     "data": {
      "text/plain": [
       "(4, 4000)"
      ]
     },
     "execution_count": 9,
     "metadata": {},
     "output_type": "execute_result"
    }
   ],
   "source": [
    "distance.shape"
   ]
  },
  {
   "cell_type": "code",
   "execution_count": 10,
   "metadata": {},
   "outputs": [
    {
     "data": {
      "text/plain": [
       "array([3, 3, 3, ..., 2, 2, 2], dtype=int64)"
      ]
     },
     "execution_count": 10,
     "metadata": {},
     "output_type": "execute_result"
    }
   ],
   "source": [
    "index=np.argmin(distance,axis=0)\n",
    "index"
   ]
  },
  {
   "cell_type": "code",
   "execution_count": 11,
   "metadata": {},
   "outputs": [],
   "source": [
    "for i in range(100):\n",
    "    distance=np.sqrt(np.sum(np.square(data-new_centroids),axis=2))\n",
    "    index=np.argmin(distance,axis=0)\n",
    "#c1,c1,c3,c4 are the clusters\n",
    "    c1=[]\n",
    "    c2=[]\n",
    "    c3=[]\n",
    "    c4=[]\n",
    "    \n",
    "#assigning different data set to the particular cluster\n",
    "    for i in range(len(index)):\n",
    "        if index[i]==0:\n",
    "            c1.append(data[i])\n",
    "        if index[i]==1:\n",
    "            c2.append(data[i])\n",
    "        if index[i]==2:\n",
    "            c3.append(data[i])\n",
    "        if index[i]==3:\n",
    "            c4.append(data[i])\n",
    "            \n",
    "#updating centroid       \n",
    "    centroids[0] = np.mean(c1,axis=0)\n",
    "    centroids[1] = np.mean(c2,axis=0)\n",
    "    centroids[2] = np.mean(c3,axis=0)\n",
    "    centroids[3] = np.mean(c4,axis=0)\n"
   ]
  },
  {
   "cell_type": "code",
   "execution_count": 12,
   "metadata": {},
   "outputs": [
    {
     "data": {
      "text/plain": [
       "(1443, 1355, 799, 403)"
      ]
     },
     "execution_count": 12,
     "metadata": {},
     "output_type": "execute_result"
    }
   ],
   "source": [
    "# no of data point in each cluster\n",
    "len(c1),len(c2),len(c3),len(c4)"
   ]
  },
  {
   "cell_type": "code",
   "execution_count": 13,
   "metadata": {},
   "outputs": [
    {
     "data": {
      "text/plain": [
       "array([[ 57.92030492,   5.28620929],\n",
       "       [ 41.54426568,   5.3904059 ],\n",
       "       [180.09647059,  18.30788486],\n",
       "       [ 50.61421836,  33.06203474]])"
      ]
     },
     "execution_count": 13,
     "metadata": {},
     "output_type": "execute_result"
    }
   ],
   "source": [
    "centroids"
   ]
  },
  {
   "cell_type": "code",
   "execution_count": 14,
   "metadata": {},
   "outputs": [
    {
     "data": {
      "text/plain": [
       "(4, 2)"
      ]
     },
     "execution_count": 14,
     "metadata": {},
     "output_type": "execute_result"
    }
   ],
   "source": [
    "centroids.shape"
   ]
  },
  {
   "cell_type": "code",
   "execution_count": 15,
   "metadata": {},
   "outputs": [
    {
     "data": {
      "image/png": "[encoded data removed]",
      "text/plain": [
       "<Figure size 432x288 with 1 Axes>"
      ]
     },
     "metadata": {},
     "output_type": "display_data"
    }
   ],
   "source": [
    "#Plotting of clusters\n",
    "df.plot(x='Distance_Feature',y='Speeding_Feature',kind='scatter',color='DarkBlue')\n",
    "for i in range(len(centroids)):\n",
    "    plt.scatter(centroids[i][0],centroids[i][1])\n",
    "    "
   ]
  },
  {
   "cell_type": "code",
   "execution_count": null,
   "metadata": {},
   "outputs": [],
   "source": []
  },
  {
   "cell_type": "code",
   "execution_count": null,
   "metadata": {},
   "outputs": [],
   "source": []
  }
 ],
 "metadata": {
  "kernelspec": {
   "display_name": "Python 3",
   "language": "python",
   "name": "python3"
  },
  "language_info": {
   "codemirror_mode": {
    "name": "ipython",
    "version": 3
   },
   "file_extension": ".py",
   "mimetype": "text/x-python",
   "name": "python",
   "nbconvert_exporter": "python",
   "pygments_lexer": "ipython3",
   "version": "3.6.5"
  }
 },
 "nbformat": 4,
 "nbformat_minor": 2
}
